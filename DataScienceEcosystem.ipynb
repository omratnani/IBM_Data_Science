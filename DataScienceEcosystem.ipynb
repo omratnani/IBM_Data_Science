{
 "cells": [
  {
   "cell_type": "markdown",
   "id": "ac242d5a-05b4-41c1-9778-f7d898c1f0cf",
   "metadata": {
    "tags": []
   },
   "source": [
    "# Data Science Tools and Ecosystem"
   ]
  },
  {
   "cell_type": "markdown",
   "id": "b2462abf-9d59-4e1b-bc36-0486db96c04b",
   "metadata": {},
   "source": [
    "## Author\n",
    "Om Kirshana"
   ]
  },
  {
   "cell_type": "markdown",
   "id": "9f4ca1f7-00f7-44d4-a3cc-442743684827",
   "metadata": {},
   "source": [
    "In this notebook, Data Science Tools and Ecosystem are summarized."
   ]
  },
  {
   "cell_type": "markdown",
   "id": "8ec8a952-0ed5-4712-b30d-39271895e516",
   "metadata": {},
   "source": [
    "**Objectives:**\n",
    "* List popular languages for Data Science\n",
    "* List popular tools for Data Science\n",
    "* Write arithmetic equations"
   ]
  },
  {
   "cell_type": "markdown",
   "id": "df8e862b-759f-4b2a-a437-586f11feb3d2",
   "metadata": {},
   "source": [
    "Some of the popular languages that Data Scientists use are:"
   ]
  },
  {
   "cell_type": "markdown",
   "id": "d5262cb8-a5fc-4e0f-86c8-aa441fed01a2",
   "metadata": {},
   "source": [
    "1. Python\n",
    "2. R\n",
    "3. Scala\n",
    "4. Julia\n",
    "5. SQL"
   ]
  },
  {
   "cell_type": "markdown",
   "id": "6e0b41c2-ca66-4910-8b18-60d39ece6caf",
   "metadata": {},
   "source": [
    "Some of the commonly used libraries used by Data Scientists include:"
   ]
  },
  {
   "cell_type": "markdown",
   "id": "e0919579-e9c1-44e4-9943-0ee30add6dc8",
   "metadata": {},
   "source": [
    "    1. matplotlib\n",
    "    2. numpy\n",
    "    3. pandas\n",
    "    4. ggplot\n",
    "    5. scipy"
   ]
  },
  {
   "cell_type": "markdown",
   "id": "c4c69665-1c50-4440-9724-243e7fbf8172",
   "metadata": {},
   "source": [
    "| Data Science Tools |\n",
    "| ------- |\n",
    "| Jupyter Nnotebook |\n",
    "| rstudio |\n",
    "| Visual Studio Code (VS Code)|"
   ]
  },
  {
   "cell_type": "markdown",
   "id": "47cf5f21-79f3-4e1a-84a2-721bc3b27b6b",
   "metadata": {},
   "source": [
    "### Below are a few examples of evaluating arithmetic expressions in Python"
   ]
  },
  {
   "cell_type": "code",
   "execution_count": 1,
   "id": "3af16591-1bcf-41b3-96d1-4e25a0347949",
   "metadata": {},
   "outputs": [
    {
     "data": {
      "text/plain": [
       "17"
      ]
     },
     "execution_count": 1,
     "metadata": {},
     "output_type": "execute_result"
    }
   ],
   "source": [
    "# This a simple arithmetic expression to mutiply then add integers\n",
    "(3*4)+5"
   ]
  },
  {
   "cell_type": "code",
   "execution_count": 3,
   "id": "fd2e40e9-bebb-4ac0-9d9b-6802a06ff9e0",
   "metadata": {},
   "outputs": [
    {
     "data": {
      "text/plain": [
       "3.3333333333333335"
      ]
     },
     "execution_count": 3,
     "metadata": {},
     "output_type": "execute_result"
    }
   ],
   "source": [
    "# This will convert 200 minutes to hours by diving by 60\n",
    "minutes = 200\n",
    "hours = minutes/60\n",
    "hours"
   ]
  },
  {
   "cell_type": "code",
   "execution_count": null,
   "id": "75d982b7-0bd7-4abf-a705-0dbb53f080bf",
   "metadata": {},
   "outputs": [],
   "source": []
  }
 ],
 "metadata": {
  "kernelspec": {
   "display_name": "anaconda-panel-2023.05-py310",
   "language": "python",
   "name": "conda-env-anaconda-panel-2023.05-py310-py"
  },
  "language_info": {
   "codemirror_mode": {
    "name": "ipython",
    "version": 3
   },
   "file_extension": ".py",
   "mimetype": "text/x-python",
   "name": "python",
   "nbconvert_exporter": "python",
   "pygments_lexer": "ipython3",
   "version": "3.11.4"
  }
 },
 "nbformat": 4,
 "nbformat_minor": 5
}
